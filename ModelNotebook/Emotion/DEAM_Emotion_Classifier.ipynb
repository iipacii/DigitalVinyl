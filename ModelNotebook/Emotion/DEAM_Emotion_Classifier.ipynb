{
 "cells": [
  {
   "cell_type": "markdown",
   "id": "0436b7a8",
   "metadata": {},
   "source": [
    "# 🎵 Emotion Classifier using DEAM Dataset (Valence/Arousal Regression)\n",
    "This notebook loads the DEAM dataset, processes audio into mel-spectrograms, trains a CNN to predict valence/arousal, and visualizes results."
   ]
  },
  {
   "cell_type": "code",
   "execution_count": 1,
   "id": "834e13f1",
   "metadata": {},
   "outputs": [],
   "source": [
    "import os\n",
    "import numpy as np\n",
    "import pandas as pd\n",
    "import librosa\n",
    "import librosa.display\n",
    "import matplotlib.pyplot as plt\n",
    "import tensorflow as tf\n",
    "from sklearn.model_selection import train_test_split\n",
    "from tensorflow.keras.models import Sequential\n",
    "from tensorflow.keras.layers import Conv2D, MaxPooling2D, Flatten, Dense, Dropout\n",
    "from tensorflow.keras.optimizers import Adam\n",
    "from tensorflow.keras.callbacks import EarlyStopping"
   ]
  },
  {
   "cell_type": "code",
   "execution_count": null,
   "id": "68c15ba3",
   "metadata": {},
   "outputs": [],
   "source": [
    "# Set paths\n",
    "AUDIO_DIR = \"MEMD_audio\"\n",
    "ANNOTATIONS_CSV = \"annotations\\annotations averaged per song\\song_level\\static_annotations_averaged_songs_1_2000.csv\"\n",
    "\n",
    "# Load annotations\n",
    "annotations = pd.read_csv(ANNOTATIONS_CSV)[['song_id', 'valence_mean', 'arousal_mean']]\n",
    "annotations.head()"
   ]
  },
  {
   "cell_type": "code",
   "execution_count": null,
   "id": "bdcf4194",
   "metadata": {},
   "outputs": [],
   "source": [
    "# Convert audio to mel-spectrogram\n",
    "def audio_to_mel_spectrogram(file_path, sr=22050, duration=30, n_mels=128):\n",
    "    y, _ = librosa.load(file_path, sr=sr, duration=duration)\n",
    "    S = librosa.feature.melspectrogram(y=y, sr=sr, n_mels=n_mels)\n",
    "    S_dB = librosa.power_to_db(S, ref=np.max)\n",
    "    return S_dB"
   ]
  },
  {
   "cell_type": "code",
   "execution_count": null,
   "id": "46e541e7",
   "metadata": {},
   "outputs": [],
   "source": [
    "X = []\n",
    "y = []\n",
    "examples = []\n",
    "\n",
    "print(\"Processing audio files...\")\n",
    "\n",
    "for idx, row in annotations.iterrows():\n",
    "    file_id = str(row['song_id']).zfill(4)\n",
    "    file_path = os.path.join(AUDIO_DIR, f\"{file_id}.mp3\")\n",
    "    if os.path.exists(file_path):\n",
    "        try:\n",
    "            mel = audio_to_mel_spectrogram(file_path)\n",
    "            mel = librosa.util.fix_length(mel, 128, axis=1)\n",
    "            X.append(mel)\n",
    "            y.append([row['valence_mean'], row['arousal_mean']])\n",
    "            if len(examples) < 6:\n",
    "                examples.append((mel, row['valence_mean'], row['arousal_mean'], file_id))\n",
    "        except Exception as e:\n",
    "            print(f\"Error processing {file_path}: {e}\")\n",
    "\n",
    "X = np.array(X)\n",
    "y = np.array(y)\n",
    "\n",
    "X = (X - X.min()) / (X.max() - X.min())\n",
    "X = X[..., np.newaxis]\n"
   ]
  },
  {
   "cell_type": "code",
   "execution_count": null,
   "id": "54972669",
   "metadata": {},
   "outputs": [],
   "source": [
    "# Visualize spectrograms\n",
    "fig, axs = plt.subplots(2, 3, figsize=(15, 8))\n",
    "fig.suptitle(\"Sample Mel-Spectrograms with Valence & Arousal\", fontsize=16)\n",
    "\n",
    "for i, (mel, val, aro, fid) in enumerate(examples):\n",
    "    ax = axs[i//3, i%3]\n",
    "    img = librosa.display.specshow(mel, sr=22050, x_axis='time', y_axis='mel', ax=ax)\n",
    "    ax.set_title(f\"ID: {fid} | Val: {val:.2f}, Aro: {aro:.2f}\")\n",
    "    ax.set_xlabel(\"\")\n",
    "    ax.set_ylabel(\"\")\n",
    "\n",
    "fig.colorbar(img, ax=axs, format=\"%+2.0f dB\")\n",
    "plt.tight_layout(rect=[0, 0.03, 1, 0.95])\n",
    "plt.show()"
   ]
  },
  {
   "cell_type": "code",
   "execution_count": null,
   "id": "e5543dcf",
   "metadata": {},
   "outputs": [],
   "source": [
    "X_train, X_test, y_train, y_test = train_test_split(X, y, test_size=0.2, random_state=42)"
   ]
  },
  {
   "cell_type": "code",
   "execution_count": null,
   "id": "637c321e",
   "metadata": {},
   "outputs": [],
   "source": [
    "model = Sequential([\n",
    "    Conv2D(32, (3, 3), activation='relu', input_shape=(128, 128, 1)),\n",
    "    MaxPooling2D((2, 2)),\n",
    "    Dropout(0.25),\n",
    "    Conv2D(64, (3, 3), activation='relu'),\n",
    "    MaxPooling2D((2, 2)),\n",
    "    Dropout(0.25),\n",
    "    Flatten(),\n",
    "    Dense(64, activation='relu'),\n",
    "    Dropout(0.5),\n",
    "    Dense(2, activation='sigmoid')\n",
    "])\n",
    "\n",
    "model.compile(optimizer=Adam(learning_rate=0.001), loss='mse', metrics=['mae'])"
   ]
  },
  {
   "cell_type": "code",
   "execution_count": null,
   "id": "6ed34f6f",
   "metadata": {},
   "outputs": [],
   "source": [
    "history = model.fit(\n",
    "    X_train, y_train,\n",
    "    validation_data=(X_test, y_test),\n",
    "    epochs=20,\n",
    "    batch_size=32,\n",
    "    callbacks=[EarlyStopping(patience=3, restore_best_weights=True)]\n",
    ")"
   ]
  },
  {
   "cell_type": "code",
   "execution_count": null,
   "id": "0c93810e",
   "metadata": {},
   "outputs": [],
   "source": [
    "loss, mae = model.evaluate(X_test, y_test)\n",
    "print(f\"Test Loss: {loss}, Test MAE: {mae}\")"
   ]
  },
  {
   "cell_type": "code",
   "execution_count": null,
   "id": "ab48b4c5",
   "metadata": {},
   "outputs": [],
   "source": [
    "plt.plot(history.history['loss'], label='Train Loss')\n",
    "plt.plot(history.history['val_loss'], label='Val Loss')\n",
    "plt.xlabel('Epoch')\n",
    "plt.ylabel('Loss')\n",
    "plt.legend()\n",
    "plt.title('Training vs Validation Loss')\n",
    "plt.grid(True)\n",
    "plt.show()"
   ]
  },
  {
   "cell_type": "code",
   "execution_count": null,
   "id": "d5d1c46f",
   "metadata": {},
   "outputs": [],
   "source": [
    "pred = model.predict(X_test[:5])\n",
    "for i in range(5):\n",
    "    print(f\"Predicted: {pred[i]}, Actual: {y_test[i]}\")"
   ]
  }
 ],
 "metadata": {
  "kernelspec": {
   "display_name": "audio",
   "language": "python",
   "name": "python3"
  },
  "language_info": {
   "codemirror_mode": {
    "name": "ipython",
    "version": 3
   },
   "file_extension": ".py",
   "mimetype": "text/x-python",
   "name": "python",
   "nbconvert_exporter": "python",
   "pygments_lexer": "ipython3",
   "version": "3.10.16"
  }
 },
 "nbformat": 4,
 "nbformat_minor": 5
}
